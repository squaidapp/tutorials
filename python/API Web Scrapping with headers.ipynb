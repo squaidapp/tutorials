{
 "cells": [
  {
   "cell_type": "markdown",
   "metadata": {},
   "source": [
    "#### Metrocuadrado.com Web Data Scrapping"
   ]
  },
  {
   "cell_type": "markdown",
   "metadata": {},
   "source": [
    "This example was created to show how to do web scrapping when headers are needed. For more details and tutorials go to: www.squaid.com"
   ]
  },
  {
   "cell_type": "code",
   "execution_count": 21,
   "metadata": {},
   "outputs": [],
   "source": [
    "# Author www.squaid.com\n",
    "# Import libraries we are going to use\n",
    "import pandas as pd\n",
    "from datetime import date\n",
    "import itertools\n",
    "import requests\n",
    "import json\n",
    "import re"
   ]
  },
  {
   "cell_type": "code",
   "execution_count": null,
   "metadata": {},
   "outputs": [],
   "source": [
    "# Just a function needed\n",
    "def get_mcdata(business: str, property_type: str, city: list, limit: int) -> list:\n",
    "    \"\"\"This functions is created to ger data from Finca Raiz a bit improved in order to improve amount of data scrapped\"\"\"\n",
    "    initial_limit = limit\n",
    "    offset = 0\n",
    "    max_hits = 10000\n",
    "    api_key = 'P1MfFHfQMOtL16Zpg36NcntJYCLFm8FqFfudnavl'\n",
    "\n",
    "    url_mc = f'https://www.metrocuadrado.com/rest-search/search?realEstateBusinessList={business}&city={city}&realEstateTypeList={property_type}&from={offset}&size={limit}'\n",
    "    headers = {'X-Api-Key':api_key}\n",
    "\n",
    "    data = []\n",
    "    response = requests.get(url=url_mc, headers=headers)\n",
    "    response_body =  json.loads(response.text)\n",
    "\n",
    "    total_assets = response_body['totalHits']\n",
    "    total_results = response_body['totalEntries']\n",
    "    data_response = response_body['results']\n",
    "\n",
    "    data.append(data_response)\n",
    "\n",
    "    if total_results > len(data_response):\n",
    "\n",
    "        if total_assets < max_hits:\n",
    "            while len(data_response) > 0:\n",
    "                if offset + limit <= total_results:\n",
    "                    offset += limit\n",
    "                else:\n",
    "                    offset += limit\n",
    "                    limit = total_results - offset\n",
    "\n",
    "                url_mc = re.sub('from=(\\d+)',f'from={offset}',url_mc)\n",
    "                response = requests.get(url=url_mc, headers=headers)\n",
    "                response_body =  json.loads(response.text)\n",
    "                data_response = response_body['results']\n",
    "                data.append(data_response)\n",
    "        else:\n",
    "            \n",
    "            for stratum_id in ['stratumList=1','stratumList=2','stratumList=3','stratumList=4','stratumList=5','stratumList=6','stratumList=7','stratumList=8']:\n",
    "\n",
    "                offset = 0\n",
    "                limit = initial_limit\n",
    "\n",
    "                url_mc = f'https://www.metrocuadrado.com/rest-search/search?realEstateBusinessList={business}&city={city}&realEstateTypeList={property_type}&from={offset}&size={limit}&{stratum_id}'\n",
    "                headers = {'X-Api-Key':api_key}\n",
    "                response = requests.get(url=url_mc, headers=headers)\n",
    "                response_body =  json.loads(response.text)\n",
    "\n",
    "                total_assets = response_body['totalHits']\n",
    "                total_results = response_body['totalEntries']\n",
    "                data_response = response_body['results']\n",
    "\n",
    "                data.append(data_response)\n",
    "\n",
    "                while (len(data_response) > 0) & (offset + limit < max_hits):\n",
    "                    if offset + limit <= total_results:\n",
    "                        offset += limit\n",
    "                    else:\n",
    "                        offset += limit\n",
    "                        limit = total_results - offset\n",
    "\n",
    "                    url_mc = re.sub('from=(\\d+)',f'from={offset}',url_mc)\n",
    "                    response = requests.get(url=url_mc, headers=headers)\n",
    "                    response_body =  json.loads(response.text)\n",
    "                    data_response = response_body['results']\n",
    "                    data.append(data_response)\n",
    "\n",
    "    data = list(itertools.chain(*data))\n",
    "    return data"
   ]
  },
  {
   "cell_type": "code",
   "execution_count": null,
   "metadata": {},
   "outputs": [],
   "source": [
    "\n",
    "# Let´s get data Colombia Real State\n",
    "business_types = [\"venta\",\"arriendo\"]\n",
    "property_types = ['apartamento','casa','oficina','local','bodega','lote','finca','edificio-de-oficinas','consultorio','edificio-de-apartamentos']\n",
    "cities = {\n",
    "    'cali': 'Cali',\n",
    "    'jamundi': 'Jamundi',\n",
    "    'bogota': 'Bogot%C3%A1',\n",
    "    'medellin': 'Medell%C3%ADn',\n",
    "    'cota': 'Cota%20(Incluye%20Siberia)',\n",
    "    'chia': 'Ch%C3%ADa',\n",
    "    'girardot': 'Girardot',\n",
    "    'santa_marta': 'Santa%20Marta',\n",
    "    'cartagena': 'Cartagena%20de%20Indias'\n",
    "}\n",
    "limit = 250\n",
    "\n",
    "try:\n",
    "    print(isinstance(assets,dict))\n",
    "except:\n",
    "    assets = {}\n",
    "\n",
    "for city in cities:\n",
    "    if not(city in assets.keys()):\n",
    "        assets[city] = {}\n",
    "    for business in business_types:\n",
    "        if not(business in assets[city].keys()):\n",
    "            assets[city][business] = {}\n",
    "        for type in property_types:\n",
    "            print(f\"City: {city} Type:{type} ...\")\n",
    "            data = get_mcdata(business, type, cities[city], limit) \n",
    "            print(f\"... Data recolected:{len(data)}\")\n",
    "            assets[city][business][type] = data\n"
   ]
  },
  {
   "cell_type": "code",
   "execution_count": null,
   "metadata": {},
   "outputs": [],
   "source": [
    "# Save raw data\n",
    "today = date.today()\n",
    "d1 = today.strftime(\"%d%m%Y\")\n",
    "with open(f\"./data/mc_{d1}.json\", \"w\") as archivo:\n",
    "    json.dump(assets, archivo)"
   ]
  },
  {
   "cell_type": "code",
   "execution_count": null,
   "metadata": {},
   "outputs": [],
   "source": [
    "#Convert data into dataframe\n",
    "data_full_df = []\n",
    "for city_key in assets.keys():\n",
    "    for business_key in assets[city_key].keys():\n",
    "        for type_key in assets[city_key][business_key].keys():\n",
    "            data_df = pd.DataFrame(assets[city_key][business_key][type_key])\n",
    "            data_df[\"city\"] = city_key\n",
    "            data_df[\"business\"] = business_key\n",
    "            data_df[\"type\"] = type_key\n",
    "            data_full_df.append(data_df)\n",
    "\n",
    "datafull = pd.concat(data_full_df)"
   ]
  },
  {
   "cell_type": "code",
   "execution_count": null,
   "metadata": {},
   "outputs": [],
   "source": [
    "\n",
    "# Save cleaned data csv\n",
    "today = date.today()\n",
    "d1 = today.strftime(\"%d%m%Y\")\n",
    "datafull.to_csv(f\"./data/mc_cleaned_{d1}.csv\", \"w\")"
   ]
  },
  {
   "cell_type": "code",
   "execution_count": null,
   "metadata": {},
   "outputs": [],
   "source": [
    "datafull"
   ]
  }
 ],
 "metadata": {
  "kernelspec": {
   "display_name": "Python 3",
   "language": "python",
   "name": "python3"
  },
  "language_info": {
   "codemirror_mode": {
    "name": "ipython",
    "version": 3
   },
   "file_extension": ".py",
   "mimetype": "text/x-python",
   "name": "python",
   "nbconvert_exporter": "python",
   "pygments_lexer": "ipython3",
   "version": "3.10.4"
  },
  "orig_nbformat": 4
 },
 "nbformat": 4,
 "nbformat_minor": 2
}
